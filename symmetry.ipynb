{
 "cells": [
  {
   "cell_type": "code",
   "execution_count": 12,
   "id": "retained-combination",
   "metadata": {},
   "outputs": [],
   "source": [
    "from pymatgen.ext.matproj import MPRester\n",
    "from pymatgen.apps.borg.hive import VaspToComputedEntryDrone\n",
    "from pymatgen.apps.borg.queen import BorgQueen\n",
    "from pymatgen.entries.compatibility import MaterialsProjectCompatibility\n",
    "from pymatgen.analysis.phase_diagram import PhaseDiagram, PDPlotter\n",
    "from pymatgen import Structure\n",
    "from pymatgen.symmetry.analyzer import SpacegroupAnalyzer\n",
    "from pymatgen.analysis.bond_valence import BVAnalyzer\n",
    "from pymatgen.core.composition import Composition\n",
    "from jupyter_jsmol.pymatgen import quick_view"
   ]
  },
  {
   "cell_type": "code",
   "execution_count": 13,
   "id": "quantitative-robinson",
   "metadata": {},
   "outputs": [],
   "source": [
    "with MPRester(\"el3corSTO535RH2iv\") as m:\n",
    "# Structure for material id\n",
    "    structure = m.get_structure_by_material_id(\"mp-15793\")\n",
    "structure.to(filename=\"LiTbSe2.cif\")"
   ]
  },
  {
   "cell_type": "code",
   "execution_count": 14,
   "id": "realistic-juice",
   "metadata": {
    "scrolled": true
   },
   "outputs": [],
   "source": [
    "struct=Structure.from_file(\"LiTbSe2.cif\")"
   ]
  },
  {
   "cell_type": "code",
   "execution_count": 15,
   "id": "announced-future",
   "metadata": {},
   "outputs": [],
   "source": [
    "StructPrim=SpacegroupAnalyzer(structure).get_primitive_standard_structure()\n",
    "analyzerSG=SpacegroupAnalyzer(StructPrim)\n",
    "symm=analyzerSG.get_symmetry_operations()\n",
    "S1=symm[1]\n",
    "S2=symm[5]\n",
    "S3=symm[2]\n"
   ]
  },
  {
   "cell_type": "code",
   "execution_count": 16,
   "id": "capital-people",
   "metadata": {},
   "outputs": [],
   "source": [
    "# Atome de Li (1er atome)\n",
    "At1_i=[0.5,0.5,0.5]\n",
    "# Atome de Se_1 (4eme atome)\n",
    "At2_i=[0.75126700,0.75126700,0.75126700]\n",
    "# Atome de Se_2 (3eme atome)\n",
    "At3_i=[0.24873300,0.24873300,0.24873300]\n",
    "\n",
    "# Application des opérations de symétrie\n",
    "# Atome de Li après opération de la symmétrie\n",
    "At1_f = S1.operate(At1_i)\n",
    "# Atome de Se_1 après opération de la symmétrie\n",
    "At2_f = S2.operate(At2_i)\n",
    "# Atome de Se_2 après opération de la symmétrie\n",
    "At3_f = S3.operate(At3_i)"
   ]
  },
  {
   "cell_type": "code",
   "execution_count": 17,
   "id": "arranged-holmes",
   "metadata": {},
   "outputs": [
    {
     "name": "stdout",
     "output_type": "stream",
     "text": [
      "Première opération de symétrie\n",
      "\n",
      "Atome de départ : Li \n",
      "position : \t  [0.5, 0.5, 0.5] \n",
      "\n",
      "Opération de symétrie : inversion 1_bar\n",
      "Rot:\n",
      "[[-1.  0.  0.]\n",
      " [ 0. -1.  0.]\n",
      " [ 0.  0. -1.]]\n",
      "tau\n",
      "[0. 0. 0.]\n",
      "Atome d'arrivée : Li \n",
      "position : \t [-0.5 -0.5 -0.5] \n",
      "\n"
     ]
    },
    {
     "data": {
      "application/vnd.jupyter.widget-view+json": {
       "model_id": "817ff899daa7491e833835e6201dc734",
       "version_major": 2,
       "version_minor": 0
      },
      "text/plain": [
       "JsmolView(layout=Layout(align_self='stretch', height='400px'))"
      ]
     },
     "metadata": {},
     "output_type": "display_data"
    }
   ],
   "source": [
    "print(\"Première opération de symétrie\\n\")\n",
    "print(\"Atome de départ : Li \\n\"+\"position : \"+ \"\\t \",At1_i, \"\\n\" )\n",
    "print(\"Opération de symétrie : inversion 1_bar\")\n",
    "print(S1)\n",
    "print(\"Atome d'arrivée : Li \\n\"+\"position : \"+\"\\t\",At1_f, \"\\n\")\n",
    "view=quick_view(struct,supercell= [1,1,1])\n",
    "display(view)\n",
    "view.script(\"draw symop 2 {atomno=1}\")"
   ]
  },
  {
   "cell_type": "code",
   "execution_count": 18,
   "id": "living-tunisia",
   "metadata": {
    "scrolled": false
   },
   "outputs": [
    {
     "name": "stdout",
     "output_type": "stream",
     "text": [
      "Deuxième opération de symétrie\n",
      "\n",
      "Atome de départ : Se_1 \n",
      "position : \t  [0.751267, 0.751267, 0.751267] \n",
      "\n",
      "Opération de symétrie : Rotoinversion d'ordre 3 selon axe [1,1,1]\n",
      "Rot:\n",
      "[[ 0.  0. -1.]\n",
      " [-1.  0.  0.]\n",
      " [ 0. -1.  0.]]\n",
      "tau\n",
      "[0. 0. 0.]\n",
      "Atome d'arrivée : Se_1 \n",
      "position : \t [-0.751267 -0.751267 -0.751267] \n",
      "\n"
     ]
    },
    {
     "data": {
      "application/vnd.jupyter.widget-view+json": {
       "model_id": "00e26b07b8d84bb493c5cf60a595e30b",
       "version_major": 2,
       "version_minor": 0
      },
      "text/plain": [
       "JsmolView(layout=Layout(align_self='stretch', height='400px'))"
      ]
     },
     "metadata": {},
     "output_type": "display_data"
    }
   ],
   "source": [
    "print(\"Deuxième opération de symétrie\\n\")\n",
    "print(\"Atome de départ : Se_1 \\n\"+\"position : \"+ \"\\t \",At2_i, \"\\n\" )\n",
    "print(\"Opération de symétrie : Rotoinversion d'ordre 3 selon axe [1,1,1]\")\n",
    "print(S2)\n",
    "print(\"Atome d'arrivée : Se_1 \\n\"+\"position : \"+\"\\t\",At2_f, \"\\n\")\n",
    "check=quick_view(struct,supercell= [1,1,1])\n",
    "display(check)\n",
    "check.script(\"draw symop 6 {atomno=3}\")"
   ]
  },
  {
   "cell_type": "code",
   "execution_count": 19,
   "id": "quality-husband",
   "metadata": {},
   "outputs": [
    {
     "name": "stdout",
     "output_type": "stream",
     "text": [
      "Troisième opération de symétrie\n",
      "\n",
      "Atome de départ : Se_2 \n",
      "position : \t  [0.248733, 0.248733, 0.248733] \n",
      "\n",
      "Opération de symétrie : rotation 3 selon axe [1,1,1]\n",
      "Rot:\n",
      "[[0. 1. 0.]\n",
      " [0. 0. 1.]\n",
      " [1. 0. 0.]]\n",
      "tau\n",
      "[0. 0. 0.]\n",
      "Atome d'arrivée : Se_2 \n",
      "position : \t [0.248733 0.248733 0.248733] \n",
      "\n"
     ]
    },
    {
     "data": {
      "application/vnd.jupyter.widget-view+json": {
       "model_id": "b24f8ad0f2e1431482b0d20d106a05dc",
       "version_major": 2,
       "version_minor": 0
      },
      "text/plain": [
       "JsmolView(layout=Layout(align_self='stretch', height='400px'))"
      ]
     },
     "metadata": {},
     "output_type": "display_data"
    }
   ],
   "source": [
    "print(\"Troisième opération de symétrie\\n\")\n",
    "print(\"Atome de départ : Se_2 \\n\"+\"position : \"+ \"\\t \",At3_i, \"\\n\" )\n",
    "print(\"Opération de symétrie : rotation 3 selon axe [1,1,1]\")\n",
    "print(S3)\n",
    "print(\"Atome d'arrivée : Se_2 \\n\"+\"position : \"+\"\\t\",At3_f, \"\\n\")\n",
    "look=quick_view(struct,supercell= [1,1,1])\n",
    "display(look)\n",
    "look.script(\"draw symop 3 {atomno=3}\")"
   ]
  },
  {
   "cell_type": "code",
   "execution_count": null,
   "id": "fewer-fortune",
   "metadata": {},
   "outputs": [],
   "source": []
  },
  {
   "cell_type": "code",
   "execution_count": null,
   "id": "simple-bride",
   "metadata": {},
   "outputs": [],
   "source": []
  },
  {
   "cell_type": "code",
   "execution_count": null,
   "id": "funded-affairs",
   "metadata": {},
   "outputs": [],
   "source": []
  }
 ],
 "metadata": {
  "kernelspec": {
   "display_name": "Python 3",
   "language": "python",
   "name": "python3"
  },
  "language_info": {
   "codemirror_mode": {
    "name": "ipython",
    "version": 3
   },
   "file_extension": ".py",
   "mimetype": "text/x-python",
   "name": "python",
   "nbconvert_exporter": "python",
   "pygments_lexer": "ipython3",
   "version": "3.6.8"
  }
 },
 "nbformat": 4,
 "nbformat_minor": 5
}
