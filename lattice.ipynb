{
 "cells": [
  {
   "cell_type": "code",
   "execution_count": 1,
   "id": "successful-organic",
   "metadata": {},
   "outputs": [],
   "source": [
    "from pymatgen.ext.matproj import MPRester\n",
    "from pymatgen.apps.borg.hive import VaspToComputedEntryDrone\n",
    "from pymatgen.apps.borg.queen import BorgQueen\n",
    "from pymatgen.entries.compatibility import MaterialsProjectCompatibility\n",
    "from pymatgen.analysis.phase_diagram import PhaseDiagram, PDPlotter\n",
    "from pymatgen import Structure\n",
    "from pymatgen.symmetry.analyzer import SpacegroupAnalyzer\n",
    "from pymatgen.analysis.bond_valence import BVAnalyzer\n",
    "from pymatgen.core.composition import Composition\n",
    "from jupyter_jsmol.pymatgen import quick_view"
   ]
  },
  {
   "cell_type": "code",
   "execution_count": 2,
   "id": "unable-bahrain",
   "metadata": {},
   "outputs": [
    {
     "name": "stdout",
     "output_type": "stream",
     "text": [
      "Full Formula (Li1 Tb1 Se2)\n",
      "Reduced Formula: LiTbSe2\n",
      "abc   :   6.923143   6.923143   6.923143\n",
      "angles:  34.340414  34.340414  34.340417\n",
      "Sites (4)\n",
      "  #  SP           a         b         c    magmom\n",
      "---  ----  --------  --------  --------  --------\n",
      "  0  Li    0.5       0.5       0.5             -0\n",
      "  1  Tb    0         0         0                0\n",
      "  2  Se    0.248733  0.248733  0.248733        -0\n",
      "  3  Se    0.751267  0.751267  0.751267        -0\n"
     ]
    }
   ],
   "source": [
    "with MPRester(\"el3corSTO535RH2iv\") as m:\n",
    "# Structure for material id\n",
    "    structure = m.get_structure_by_material_id(\"mp-15793\")\n",
    "print (structure)\n",
    "structure.to(filename=\"LiTbSe2.cif\")"
   ]
  },
  {
   "cell_type": "code",
   "execution_count": 3,
   "id": "clear-professional",
   "metadata": {},
   "outputs": [
    {
     "data": {
      "application/vnd.jupyter.widget-view+json": {
       "model_id": "c6d24b5f28a44b268d743faca8ca174c",
       "version_major": 2,
       "version_minor": 0
      },
      "text/plain": [
       "JsmolView(layout=Layout(align_self='stretch', height='400px'))"
      ]
     },
     "metadata": {},
     "output_type": "display_data"
    }
   ],
   "source": [
    "struct=Structure.from_file(\"LiTbSe2.cif\")\n",
    "view=quick_view(struct,supercell= [2,2,2])\n",
    "display(view)"
   ]
  },
  {
   "cell_type": "code",
   "execution_count": 13,
   "id": "wireless-calvin",
   "metadata": {},
   "outputs": [],
   "source": [
    "StructPrim=SpacegroupAnalyzer(structure).get_primitive_standard_structure()\n",
    "lattice=StructPrim.lattice\n",
    "\n",
    "analyzerSG=SpacegroupAnalyzer(StructPrim)\n",
    "Maille = analyzerSG.get_lattice_type()\n",
    "Systeme = analyzerSG.get_crystal_system()\n",
    "param=lattice.abc\n",
    "angles=lattice.angles\n",
    "\n",
    "réciparam=lattice.reciprocal_lattice.abc\n",
    "réciangles=lattice.reciprocal_lattice.angles\n",
    "PointGroup=analyzerSG.get_point_group_symbol()\n"
   ]
  },
  {
   "cell_type": "code",
   "execution_count": 5,
   "id": "nearby-stupid",
   "metadata": {},
   "outputs": [],
   "source": [
    "matrix= lattice.matrix\n",
    "v1=matrix[0,:]; v2= matrix[1,:]; v3=matrix[2,:]\n",
    "rmatrix = lattice.reciprocal_lattice.matrix\n",
    "rv1 = rmatrix[0,:] ; rv2 = rmatrix[1,:] ; rv3 = rmatrix[2,:]\n",
    "\n"
   ]
  },
  {
   "cell_type": "code",
   "execution_count": 12,
   "id": "fallen-monkey",
   "metadata": {},
   "outputs": [
    {
     "name": "stdout",
     "output_type": "stream",
     "text": [
      "Cristal de LiTbSe2\n",
      "Vecteurs du réseau direct: \n",
      " v1 = \t [ 6.61459208 -2.04378984  0.        ] a = \t 6.923142734418267 alpha = \t 34.34041432943812 \n",
      " v2 = \t [6.61459208 2.04378984 0.        ] b = \t 6.923142734418267 beta = \t 34.34041432943812 \n",
      " v3 = \t [5.98309783 0.         3.48316605] c = \t 6.923142734418269 gamma = \t 34.34041432943811\n",
      "Vecteurs du réseau réciproque: \n",
      " v1* = \t [ 0.47494881 -1.53714075 -0.81582823] a* = \t 1.803871885569082 alpha* = \t 116.88910125261185 \n",
      " v2* = \t [ 0.47494881  1.53714075 -0.81582823] b* = \t 1.803871885569082 beta* = \t 116.88910125261185 \n",
      " v3* = \t [0.         0.         1.80387189] c* = \t 1.8038718855690818 gamma* = \t 116.88910125261185\n",
      "Type de maille: \t rhombohedral\n",
      "Système cristallin: \t trigonal\n",
      "Groupe ponctuel: \t -3m\n"
     ]
    }
   ],
   "source": [
    "print(\"Cristal de LiTbSe2\")\n",
    "print(\"Vecteurs du réseau direct: \\n\",\"v1 = \\t\",v1, \"a = \\t\", param[0],\"alpha = \\t\",angles[0], \"\\n v2 = \\t\",v2, \"b = \\t\", param[1],\"beta = \\t\", angles[1], \"\\n v3 = \\t\", v3,\"c = \\t\",param[2], \"gamma = \\t\",angles[2])\n",
    "print(\"Vecteurs du réseau réciproque: \\n\",\"v1* = \\t\",rv1,\"a* = \\t\",réciparam[0],\"alpha* = \\t\",réciangles[0], \"\\n v2* = \\t\",rv2,\"b* = \\t\",réciparam[1],\"beta* = \\t\", réciangles[1], \"\\n v3* = \\t\", rv3, \"c* = \\t\", réciparam[2], \"gamma* = \\t\",réciangles[2])\n",
    "print(\"Type de maille: \\t\",Maille)\n",
    "print(\"Système cristallin: \\t\", Systeme)\n",
    "print(\"Groupe ponctuel: \\t\",PointGroup)"
   ]
  },
  {
   "cell_type": "code",
   "execution_count": null,
   "id": "adjustable-pixel",
   "metadata": {},
   "outputs": [],
   "source": []
  }
 ],
 "metadata": {
  "kernelspec": {
   "display_name": "Python 3",
   "language": "python",
   "name": "python3"
  },
  "language_info": {
   "codemirror_mode": {
    "name": "ipython",
    "version": 3
   },
   "file_extension": ".py",
   "mimetype": "text/x-python",
   "name": "python",
   "nbconvert_exporter": "python",
   "pygments_lexer": "ipython3",
   "version": "3.6.8"
  }
 },
 "nbformat": 4,
 "nbformat_minor": 5
}
