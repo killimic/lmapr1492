{
 "cells": [
  {
   "cell_type": "code",
   "execution_count": 1,
   "id": "north-influence",
   "metadata": {},
   "outputs": [],
   "source": [
    "from pymatgen.ext.matproj import MPRester\n",
    "from pymatgen.apps.borg.hive import VaspToComputedEntryDrone\n",
    "from pymatgen.apps.borg.queen import BorgQueen\n",
    "from pymatgen.entries.compatibility import MaterialsProjectCompatibility\n",
    "from pymatgen.analysis.phase_diagram import PhaseDiagram, PDPlotter\n"
   ]
  },
  {
   "cell_type": "code",
   "execution_count": 2,
   "id": "proud-economics",
   "metadata": {},
   "outputs": [],
   "source": [
    "with MPRester(\"el3corSTO535RH2iv\") as m:\n",
    "# Structure for material id\n",
    "    structure = m.get_structure_by_material_id(\"mp-15793\")"
   ]
  },
  {
   "cell_type": "code",
   "execution_count": 3,
   "id": "listed-evaluation",
   "metadata": {},
   "outputs": [
    {
     "name": "stdout",
     "output_type": "stream",
     "text": [
      "Full Formula (Li1 Tb1 Se2)\n",
      "Reduced Formula: LiTbSe2\n",
      "abc   :   6.923143   6.923143   6.923143\n",
      "angles:  34.340414  34.340414  34.340417\n",
      "Sites (4)\n",
      "  #  SP           a         b         c    magmom\n",
      "---  ----  --------  --------  --------  --------\n",
      "  0  Li    0.5       0.5       0.5             -0\n",
      "  1  Tb    0         0         0                0\n",
      "  2  Se    0.248733  0.248733  0.248733        -0\n",
      "  3  Se    0.751267  0.751267  0.751267        -0\n"
     ]
    }
   ],
   "source": [
    "print (structure)"
   ]
  },
  {
   "cell_type": "code",
   "execution_count": 4,
   "id": "first-cooking",
   "metadata": {},
   "outputs": [],
   "source": [
    "structure.to(filename=\"LiTbSe2.cif\")"
   ]
  },
  {
   "cell_type": "code",
   "execution_count": null,
   "id": "invisible-physiology",
   "metadata": {},
   "outputs": [],
   "source": []
  }
 ],
 "metadata": {
  "kernelspec": {
   "display_name": "Python 3",
   "language": "python",
   "name": "python3"
  },
  "language_info": {
   "codemirror_mode": {
    "name": "ipython",
    "version": 3
   },
   "file_extension": ".py",
   "mimetype": "text/x-python",
   "name": "python",
   "nbconvert_exporter": "python",
   "pygments_lexer": "ipython3",
   "version": "3.6.8"
  }
 },
 "nbformat": 4,
 "nbformat_minor": 5
}
